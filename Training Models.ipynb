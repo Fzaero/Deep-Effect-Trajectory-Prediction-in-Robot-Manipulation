{
 "cells": [
  {
   "cell_type": "code",
   "execution_count": 1,
   "metadata": {},
   "outputs": [
    {
     "name": "stderr",
     "output_type": "stream",
     "text": [
      "Using TensorFlow backend.\n"
     ]
    }
   ],
   "source": [
    "from Prepare_Data import *\n",
    "from Models import *\n",
    "from Test import *\n",
    "import os \n",
    "if os.path.isdir(\"scalers\")==False:\n",
    "    os.mkdir(\"scalers\")\n",
    "if os.path.isdir(\"models\")==False:\n",
    "    os.mkdir(\"models\")\n"
   ]
  },
  {
   "cell_type": "code",
   "execution_count": 2,
   "metadata": {},
   "outputs": [],
   "source": [
    "modelNumber=1\n",
    "# 1: Basic LSTM Model \n",
    "# 2: Input Features first goes throush encoder, Then given to LSTM. \n",
    "# 3: Image CNN LSTM\n",
    "features=2\n",
    "# features= 0:No Features,1:Support Points,2:ShapeContext,3:AutoEncoder,4:Image\n",
    "FeatureSize=110\n",
    "# FeatureSize= No Feature:0,Support Points:4, ShapeContext:110,420,1640,AutoEncoder:256,512,1024 Image:(128,128,1)\n"
   ]
  },
  {
   "cell_type": "code",
   "execution_count": 3,
   "metadata": {},
   "outputs": [],
   "source": [
    "## Model Parameters:\n",
    "seq_length=15\n",
    "n_neurons=128"
   ]
  },
  {
   "cell_type": "code",
   "execution_count": 4,
   "metadata": {},
   "outputs": [],
   "source": [
    "if modelNumber==1:\n",
    "    model = model_type_1(n_neurons,seq_length, FeatureSize+6)\n",
    "elif modelNumber==2:\n",
    "    model = model_type_2(n_neurons,seq_length, FeatureSize+6)\n",
    "elif modelNumber==3:\n",
    "    model = model_type_3(n_neurons,seq_length, FeatureSize)"
   ]
  },
  {
   "cell_type": "markdown",
   "metadata": {},
   "source": [
    "# Training"
   ]
  },
  {
   "cell_type": "code",
   "execution_count": 5,
   "metadata": {
    "scrolled": true
   },
   "outputs": [
    {
     "name": "stdout",
     "output_type": "stream",
     "text": [
      "EPOCH: 49\n",
      "----------------\n",
      "Total XYZ MSE Error Mean=5.04 Std=4.03\n"
     ]
    }
   ],
   "source": [
    "from IPython.display import clear_output\n",
    "error=100\n",
    "if modelNumber==3:\n",
    "    TrainDg,_=prepare_data_for_model(modelNumber,features,FeatureSize,seq_length)\n",
    "    for epoch in range(50):\n",
    "        model.fit_generator(generator=TrainDg,\n",
    "                            steps_per_epoch=300,\n",
    "                            epochs=1,\n",
    "                            use_multiprocessing=True,\n",
    "                            verbose=1,\n",
    "                            workers=4)\n",
    "        clear_output()\n",
    "        print 'EPOCH:',epoch\n",
    "        print '----------------'\n",
    "        val_error,var_error_std=validate_model(modelNumber,features,FeatureSize,seq_length,model)\n",
    "        if val_error<error:\n",
    "            error=val_error\n",
    "            print 'copied'\n",
    "            model_copy = keras.models.clone_model(model)\n",
    "            model_copy.set_weights(model.get_weights())\n",
    "    model_copy.save('models/m_'+str(modelNumber)+'_f'+str(features)+'.h5')\n",
    "else:\n",
    "    x,y = prepare_data_for_model(modelNumber,features,FeatureSize,seq_length)\n",
    "    for epoch in range(50):\n",
    "        model.fit(x,y,epochs=1)\n",
    "        clear_output()\n",
    "        print 'EPOCH:',epoch\n",
    "        print '----------------'\n",
    "        val_error,var_error_std=validate_model(modelNumber,features,FeatureSize,seq_length,model)\n",
    "        if val_error<error:\n",
    "            error=val_error\n",
    "            print 'copied'\n",
    "            model_copy = keras.models.clone_model(model)\n",
    "            model_copy.set_weights(model.get_weights())\n",
    "    model_copy.save('models/m_'+str(modelNumber)+'_f'+str(features)+'_fs'+str(FeatureSize)+'.h5')"
   ]
  },
  {
   "cell_type": "markdown",
   "metadata": {},
   "source": [
    "# Test"
   ]
  },
  {
   "cell_type": "code",
   "execution_count": 6,
   "metadata": {},
   "outputs": [
    {
     "name": "stdout",
     "output_type": "stream",
     "text": [
      "Total XYZ MSE Error Mean=5.32 Std=4.60\n"
     ]
    }
   ],
   "source": [
    "test_error,test_error_std,real_trajectories,predicted_trajectories=test_model(modelNumber,features,FeatureSize,seq_length,model_copy)"
   ]
  }
 ],
 "metadata": {
  "kernelspec": {
   "display_name": "Python 2",
   "language": "python",
   "name": "python2"
  },
  "language_info": {
   "codemirror_mode": {
    "name": "ipython",
    "version": 2
   },
   "file_extension": ".py",
   "mimetype": "text/x-python",
   "name": "python",
   "nbconvert_exporter": "python",
   "pygments_lexer": "ipython2",
   "version": "2.7.15"
  },
  "varInspector": {
   "cols": {
    "lenName": 16,
    "lenType": 16,
    "lenVar": 40
   },
   "kernels_config": {
    "python": {
     "delete_cmd_postfix": "",
     "delete_cmd_prefix": "del ",
     "library": "var_list.py",
     "varRefreshCmd": "print(var_dic_list())"
    },
    "r": {
     "delete_cmd_postfix": ") ",
     "delete_cmd_prefix": "rm(",
     "library": "var_list.r",
     "varRefreshCmd": "cat(var_dic_list()) "
    }
   },
   "types_to_exclude": [
    "module",
    "function",
    "builtin_function_or_method",
    "instance",
    "_Feature"
   ],
   "window_display": false
  }
 },
 "nbformat": 4,
 "nbformat_minor": 2
}
